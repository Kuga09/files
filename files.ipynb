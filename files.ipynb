{
 "cells": [
  {
   "cell_type": "code",
   "execution_count": null,
   "metadata": {},
   "outputs": [
    {
     "data": {
      "text/plain": [
       "{'access': ['switchport mode access',\n",
       "  'switchport access vlan',\n",
       "  'switchport nonegotiate',\n",
       "  'spanning-tree portfast',\n",
       "  'spanning-tree bpduguard enable'],\n",
       " 'trunk': ['switchport trunk encapsulation dot1q',\n",
       "  'switchport mode trunk',\n",
       "  'switchport trunk native vlan 999',\n",
       "  'switchport trunk allowed vlan']}"
      ]
     },
     "execution_count": 1,
     "metadata": {},
     "output_type": "execute_result"
    }
   ],
   "source": [
    "import json\n",
    "file=open(\"sw_templates.json\",'r')\n",
    "data = json.load(file)\n",
    "data"
   ]
  },
  {
   "cell_type": "code",
   "execution_count": null,
   "metadata": {},
   "outputs": [],
   "source": [
    "import json\n",
    "file=open(\"sw_templates.json\",'r')\n",
    "data = json.load(file)\n",
    "data['access + trunk'] = ['switchport mode access', #добавляем еще один элемент\n",
    "  'switchport access vlan',\n",
    "  'switchport nonegotiate',\n",
    "  'spanning-tree portfast',\n",
    "  'spanning-tree bpduguard enable',\n",
    " 'switchport trunk encapsulation dot1q',\n",
    "  'switchport mode trunk',\n",
    "  'switchport trunk native vlan 999',\n",
    "  'switchport trunk allowed vlan']\n",
    "file.close()\n",
    "file = open(\"sw_templates.json\",'w')\n",
    "json.dump(data,file, indent= 2) #sort_keys=True\n",
    "#file.write(json.dumps)\n",
    "file.close()"
   ]
  },
  {
   "cell_type": "code",
   "execution_count": null,
   "metadata": {},
   "outputs": [
    {
     "data": {
      "text/plain": [
       "Country Code            KZ\n",
       "country         Kazakhstan\n",
       "population           17.04\n",
       "square             2724902\n",
       "density           6.253436\n",
       "Name: 0, dtype: object"
      ]
     },
     "execution_count": 9,
     "metadata": {},
     "output_type": "execute_result"
    }
   ],
   "source": [
    "import pandas as pd\n",
    "df = pd.read_csv(\"filename.csv\")\n",
    "df['square'] #вывод столбца\n",
    "df.iloc[0] #вывод строки"
   ]
  }
 ],
 "metadata": {
  "kernelspec": {
   "display_name": "Python 3",
   "language": "python",
   "name": "python3"
  },
  "language_info": {
   "codemirror_mode": {
    "name": "ipython",
    "version": 3
   },
   "file_extension": ".py",
   "mimetype": "text/x-python",
   "name": "python",
   "nbconvert_exporter": "python",
   "pygments_lexer": "ipython3",
   "version": "3.12.3"
  }
 },
 "nbformat": 4,
 "nbformat_minor": 2
}
